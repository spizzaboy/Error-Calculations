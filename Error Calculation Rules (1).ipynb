{
 "cells": [
  {
   "cell_type": "code",
   "execution_count": 1,
   "id": "40432443",
   "metadata": {},
   "outputs": [
    {
     "name": "stdout",
     "output_type": "stream",
     "text": [
      "Rule 1 is  [0.098]\n",
      "Rule 2 is  [0.02]\n",
      "Rule 3 is  [0.01414214]\n",
      "Rule 4 is  [0.]\n",
      "Fractional Uncertainy is  [0.01]\n",
      "standard dev x= 0.37416573867739417\n",
      "xmean= 1.3\n"
     ]
    }
   ],
   "source": [
    "import numpy as np\n",
    "\n",
    "\"\"\"\n",
    "Lynn Parker\n",
    "Physics Project: Coding\n",
    "\n",
    "Measure accuracy in any given function with given constants.\n",
    "\"\"\"\n",
    "## GLOBAL VARIABLES##\n",
    "eA = np.array([0.01])\n",
    "A  = np.array([1])\n",
    "eB = np.array([0.01])\n",
    "B  = np.array([1])\n",
    "C  = np.array([9.8])\n",
    "m  = np.array([2])\n",
    "n  = np.array([1])\n",
    "x  =  np.array([1,2.1,1.2,1.3,1,1.2])\n",
    "\n",
    "## DEFINITIONS ##\n",
    "\n",
    "def rule1():\n",
    "    return np.multiply(eA, C)\n",
    "\n",
    "def rule2():\n",
    "    return (m * np.divide(eA, A))\n",
    "\n",
    "def rule3():\n",
    "    return (np.sqrt(eA**2 + eB**2))\n",
    "\n",
    "def rule4():\n",
    "    return np.sqrt((m * (eA//A)**2) + (n * (eB//B)**2))\n",
    "\n",
    "def rulefrac():\n",
    "    return np.divide(eA,A)\n",
    "# MAIN PROGRAM #\n",
    "\n",
    "print (\"Rule 1 is \", rule1())\n",
    "print (\"Rule 2 is \", rule2())\n",
    "print (\"Rule 3 is \", rule3())\n",
    "print (\"Rule 4 is \", rule4())\n",
    "print (\"Fractional Uncertainy is \", rulefrac())\n",
    "print (\"standard dev x=\", np.std(x))\n",
    "print (\"xmean=\", np.average(x))"
   ]
  },
  {
   "cell_type": "code",
   "execution_count": null,
   "id": "ab05b38c",
   "metadata": {},
   "outputs": [],
   "source": []
  },
  {
   "cell_type": "code",
   "execution_count": null,
   "id": "8ff67071",
   "metadata": {},
   "outputs": [],
   "source": []
  }
 ],
 "metadata": {
  "kernelspec": {
   "display_name": "Python 3",
   "language": "python",
   "name": "python3"
  },
  "language_info": {
   "codemirror_mode": {
    "name": "ipython",
    "version": 3
   },
   "file_extension": ".py",
   "mimetype": "text/x-python",
   "name": "python",
   "nbconvert_exporter": "python",
   "pygments_lexer": "ipython3",
   "version": "3.8.8"
  }
 },
 "nbformat": 4,
 "nbformat_minor": 5
}
