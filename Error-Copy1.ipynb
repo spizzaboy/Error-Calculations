{
 "cells": [
  {
   "cell_type": "code",
   "execution_count": 5,
   "id": "3ef72f10",
   "metadata": {},
   "outputs": [
    {
     "name": "stdout",
     "output_type": "stream",
     "text": [
      "Rule 1 is  [0.098]\n",
      "Rule 2 is  [0.02]\n",
      "Rule 3 is  [0.01414214]\n",
      "Rule 4 is  [0.]\n",
      "Fractional Uncertainy is  [0.01]\n",
      "standard dev x= 0.37416573867739417\n",
      "xmean= 1.3\n"
     ]
    }
   ],
   "source": [
    "import numpy as np\n",
    "\n",
    "\"\"\"\n",
    "Lynn Parker\n",
    "Physics Project: Coding\n",
    "\n",
    "Measure accuracy in any given function with given constants.\n",
    "\"\"\"\n",
    "## GLOBAL VARIABLES##\n",
    "eA = np.array([0.01])\n",
    "A  = np.array([1])\n",
    "eB = np.array([0.01])\n",
    "B  = np.array([1])\n",
    "C  = np.array([9.8])\n",
    "m  = np.array([2])\n",
    "n  = np.array([1])\n",
    "x  =  np.array([1,2.1,1.2,1.3,1,1.2])\n",
    "\n",
    "## DEFINITIONS ##\n",
    "\n",
    "def rule1(eA, C):\n",
    "    eQ1 = np.multiply(eA, C)\n",
    "    return eQ1\n",
    "\n",
    "def rule2(eA, A):\n",
    "    eQ2 = (m * np.divide(eA, A))\n",
    "    return eQ2\n",
    "\n",
    "def rule3(eA, eB):\n",
    "    eQ3 = (np.sqrt(eA**2 + eB**2))\n",
    "    return eQ3\n",
    "\n",
    "def rule4(eA, A, eB, B):\n",
    "    eQ4 = np.sqrt((m * (eA//A)**2) + (n * (eB//B)**2))\n",
    "    return eQ4\n",
    "\n",
    "def rulefrac(eA, A):\n",
    "    eQ5 = np.divide(eA,A)\n",
    "    return eQ5\n",
    "# MAIN PROGRAM #\n",
    "\n",
    "print (\"Rule 1 is \", rule1(eA, C))\n",
    "print (\"Rule 2 is \", rule2(eA, A))\n",
    "print (\"Rule 3 is \", rule3(eA, eB))\n",
    "print (\"Rule 4 is \", rule4(eA, A, eB, B))\n",
    "print (\"Fractional Uncertainy is \", rulefrac(eA, A))\n",
    "print (\"standard dev x=\", np.std(x))\n",
    "print (\"xmean=\", np.average(x))"
   ]
  },
  {
   "cell_type": "code",
   "execution_count": null,
   "id": "6166097d",
   "metadata": {},
   "outputs": [],
   "source": []
  },
  {
   "cell_type": "code",
   "execution_count": null,
   "id": "7531033c",
   "metadata": {},
   "outputs": [],
   "source": []
  }
 ],
 "metadata": {
  "kernelspec": {
   "display_name": "Python 3",
   "language": "python",
   "name": "python3"
  },
  "language_info": {
   "codemirror_mode": {
    "name": "ipython",
    "version": 3
   },
   "file_extension": ".py",
   "mimetype": "text/x-python",
   "name": "python",
   "nbconvert_exporter": "python",
   "pygments_lexer": "ipython3",
   "version": "3.8.8"
  }
 },
 "nbformat": 4,
 "nbformat_minor": 5
}
