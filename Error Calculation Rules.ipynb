{
 "cells": [
  {
   "cell_type": "code",
   "execution_count": 3,
   "id": "40432443",
   "metadata": {},
   "outputs": [
    {
     "name": "stdout",
     "output_type": "stream",
     "text": [
      "Rule 1 is  [1.         0.5        0.33333333]\n",
      "Rule 2 is  [2.         1.         0.66666667]\n",
      "Rule 3 is  2.8284271247461903\n",
      "Rule 4 is  [2.         1.58113883 1.49071198]\n"
     ]
    }
   ],
   "source": [
    "import math \n",
    "import numpy as np\n",
    "\n",
    "\"\"\"\n",
    "Lynn Parker\n",
    "Physics Project: Coding\n",
    "\n",
    "Measure accuracy in any given function with given constants.\n",
    "\"\"\"\n",
    "## GLOBAL VARIABLES##\n",
    "eA = np.array([2])\n",
    "A  = np.array([2, 4, 6])\n",
    "eB = np.array([2])\n",
    "B  = np.array([2])\n",
    "m  = np.array([2])\n",
    "n  = np.array([2])\n",
    "x = np.array([1,2,1.2,1.3,1,1.2])\n",
    "\n",
    "## DEFINITIONS ##\n",
    "\n",
    "def rule1():\n",
    "  return np.divide(eA, A)\n",
    "\n",
    "def rule2():\n",
    "  return (m * np.divide(eA, A))\n",
    "\n",
    "\n",
    "def rule3():\n",
    "  return (math.sqrt(eA**2 + eB**2)\n",
    ")\n",
    "\n",
    "def rule4():\n",
    "  return np.sqrt((m * (eA//A)**2 + (n * (eB//B)**2)))\n",
    "\n",
    "# MAIN PROGRAM #\n",
    "\n",
    "print (\"Rule 1 is \",rule1())\n",
    "print (\"Rule 2 is \",rule2())\n",
    "print (\"Rule 3 is \",rule3())\n",
    "print (\"Rule 4 is \",rule4())\n",
    "print (\"standard dev x=\", np.std(x))\n",
    "print (\"xmean=\", np.average(x))"
   ]
  },
  {
   "cell_type": "code",
   "execution_count": null,
   "id": "ab05b38c",
   "metadata": {},
   "outputs": [],
   "source": []
  }
 ],
 "metadata": {
  "kernelspec": {
   "display_name": "Python 3",
   "language": "python",
   "name": "python3"
  },
  "language_info": {
   "codemirror_mode": {
    "name": "ipython",
    "version": 3
   },
   "file_extension": ".py",
   "mimetype": "text/x-python",
   "name": "python",
   "nbconvert_exporter": "python",
   "pygments_lexer": "ipython3",
   "version": "3.8.8"
  }
 },
 "nbformat": 4,
 "nbformat_minor": 5
}
